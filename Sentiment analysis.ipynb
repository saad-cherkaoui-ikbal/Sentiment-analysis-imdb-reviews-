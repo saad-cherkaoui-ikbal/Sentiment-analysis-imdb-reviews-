{
 "cells": [
  {
   "cell_type": "code",
   "execution_count": 2,
   "id": "a7448959",
   "metadata": {},
   "outputs": [],
   "source": [
    "import tarfile"
   ]
  },
  {
   "cell_type": "code",
   "execution_count": 8,
   "id": "550d6f08",
   "metadata": {},
   "outputs": [],
   "source": [
    "tar = tarfile.open('aclImdb_v1.tar.gz', \"r:gz\")\n",
    "tar.extractall()\n",
    "tar.close()"
   ]
  },
  {
   "cell_type": "code",
   "execution_count": 178,
   "id": "a5073329",
   "metadata": {},
   "outputs": [],
   "source": [
    "import regex as re\n",
    "import nltk\n",
    "from nltk.corpus import stopwords\n",
    "# nltk.download('stopwords')\n",
    "from nltk.tokenize.toktok import ToktokTokenizer\n",
    "from bs4 import BeautifulSoup # getting rid of html tags from strings (won't be necessary)\n",
    "from nltk.stem import PorterStemmer # stemming the words within each review\n",
    "#from nltk.stem import LancasterStemmer\n",
    "import spacy\n",
    "sp = spacy.load('en_core_web_sm')\n",
    "from sklearn.feature_extraction.text import CountVectorizer # transfrom reviews into vectors (Bag of words)\n",
    "from sklearn.feature_extraction.text import TfidfVectorizer"
   ]
  },
  {
   "cell_type": "markdown",
   "id": "87a88aee",
   "metadata": {},
   "source": [
    "### Getting the data"
   ]
  },
  {
   "cell_type": "code",
   "execution_count": 2,
   "id": "48170118",
   "metadata": {},
   "outputs": [],
   "source": [
    "import pandas as pd\n",
    "import numpy as np\n",
    "import matplotlib.pyplot as plt\n",
    "import os\n",
    "os.chdir('aclImdb')"
   ]
  },
  {
   "cell_type": "markdown",
   "id": "3832ce64",
   "metadata": {},
   "source": [
    "We first get the names of all txt files"
   ]
  },
  {
   "cell_type": "code",
   "execution_count": 14,
   "id": "d9c487ca",
   "metadata": {},
   "outputs": [],
   "source": [
    "f_pos = os.listdir(\"train/pos\")\n",
    "f_neg = os.listdir(\"train/neg\")"
   ]
  },
  {
   "cell_type": "markdown",
   "id": "801e9bab",
   "metadata": {},
   "source": [
    "Now, let's retrieve all reviews of the training set"
   ]
  },
  {
   "cell_type": "code",
   "execution_count": 15,
   "id": "66a09d90",
   "metadata": {},
   "outputs": [],
   "source": [
    "\n",
    "def retrieve(path, names) :\n",
    "    y = []\n",
    "    for l in names :\n",
    "        with open(os.path.join(path, l), encoding=\"utf8\") as x:\n",
    "            y += x.readlines()\n",
    "    return y\n",
    "\n",
    "'''\n",
    "train_reviews_pos = []\n",
    "for l in f_pos :\n",
    "    with open(os.path.join(\"train/pos\", l), encoding=\"utf8\") as x:\n",
    "        train_reviews_pos += x.readlines()\n",
    "\n",
    "train_reviews_neg = []\n",
    "for l in f_neg :\n",
    "    with open(os.path.join(\"train/neg\", l), encoding=\"utf8\") as x:\n",
    "        train_reviews_neg += x.readlines()\n",
    "'''\n",
    "train_reviews_pos = retrieve(\"train/pos\", f_pos)\n",
    "train_reviews_neg = retrieve(\"train/neg\", f_neg)"
   ]
  },
  {
   "cell_type": "markdown",
   "id": "be89542c",
   "metadata": {},
   "source": [
    "Our training set :"
   ]
  },
  {
   "cell_type": "code",
   "execution_count": 16,
   "id": "816eb040",
   "metadata": {},
   "outputs": [
    {
     "data": {
      "text/plain": [
       "(25000, 2)"
      ]
     },
     "execution_count": 16,
     "metadata": {},
     "output_type": "execute_result"
    }
   ],
   "source": [
    "sentiments = np.concatenate((np.ones(12500), np.zeros(12500)))\n",
    "sentiments = np.vectorize({0:'negative', 1:'positive'}.get)(sentiments)\n",
    "\n",
    "data = pd.DataFrame(np.array([train_reviews_pos+train_reviews_neg, sentiments]).T\n",
    "                    , columns=['reviews', 'sentiment'])\n",
    "data = data.sample(frac=1).reset_index(drop=True)\n",
    "data.shape"
   ]
  },
  {
   "cell_type": "code",
   "execution_count": 19,
   "id": "4fc636d6",
   "metadata": {},
   "outputs": [
    {
     "data": {
      "text/html": [
       "<div>\n",
       "<style scoped>\n",
       "    .dataframe tbody tr th:only-of-type {\n",
       "        vertical-align: middle;\n",
       "    }\n",
       "\n",
       "    .dataframe tbody tr th {\n",
       "        vertical-align: top;\n",
       "    }\n",
       "\n",
       "    .dataframe thead th {\n",
       "        text-align: right;\n",
       "    }\n",
       "</style>\n",
       "<table border=\"1\" class=\"dataframe\">\n",
       "  <thead>\n",
       "    <tr style=\"text-align: right;\">\n",
       "      <th></th>\n",
       "      <th>reviews</th>\n",
       "      <th>sentiment</th>\n",
       "    </tr>\n",
       "  </thead>\n",
       "  <tbody>\n",
       "    <tr>\n",
       "      <th>0</th>\n",
       "      <td>I liked it but then I think I might have been ...</td>\n",
       "      <td>negative</td>\n",
       "    </tr>\n",
       "    <tr>\n",
       "      <th>1</th>\n",
       "      <td>Mr. Mike was probably the most misanthropic co...</td>\n",
       "      <td>negative</td>\n",
       "    </tr>\n",
       "    <tr>\n",
       "      <th>2</th>\n",
       "      <td>This is what I was expecting when star trek DS...</td>\n",
       "      <td>positive</td>\n",
       "    </tr>\n",
       "    <tr>\n",
       "      <th>3</th>\n",
       "      <td>'Intervention' has helped me with my own addic...</td>\n",
       "      <td>positive</td>\n",
       "    </tr>\n",
       "    <tr>\n",
       "      <th>4</th>\n",
       "      <td>Great acting on the part of Gretchen Mol. This...</td>\n",
       "      <td>positive</td>\n",
       "    </tr>\n",
       "  </tbody>\n",
       "</table>\n",
       "</div>"
      ],
      "text/plain": [
       "                                             reviews sentiment\n",
       "0  I liked it but then I think I might have been ...  negative\n",
       "1  Mr. Mike was probably the most misanthropic co...  negative\n",
       "2  This is what I was expecting when star trek DS...  positive\n",
       "3  'Intervention' has helped me with my own addic...  positive\n",
       "4  Great acting on the part of Gretchen Mol. This...  positive"
      ]
     },
     "execution_count": 19,
     "metadata": {},
     "output_type": "execute_result"
    }
   ],
   "source": [
    "data.head()"
   ]
  },
  {
   "cell_type": "markdown",
   "id": "1867b03e",
   "metadata": {},
   "source": [
    "Our test set :"
   ]
  },
  {
   "cell_type": "code",
   "execution_count": 17,
   "id": "d4279498",
   "metadata": {},
   "outputs": [
    {
     "data": {
      "text/plain": [
       "(25000, 2)"
      ]
     },
     "execution_count": 17,
     "metadata": {},
     "output_type": "execute_result"
    }
   ],
   "source": [
    "f_pos_test = os.listdir(\"test/pos\")\n",
    "f_neg_test = os.listdir(\"test/neg\")\n",
    "test_reviews_pos = retrieve(\"test/pos\", f_pos_test)\n",
    "test_reviews_neg = retrieve(\"test/neg\", f_neg_test)\n",
    "\n",
    "sentiments = np.concatenate((np.ones(12500), np.zeros(12500)))\n",
    "sentiments = np.vectorize({0:'negative', 1:'positive'}.get)(sentiments)\n",
    "\n",
    "data_test = pd.DataFrame(np.array([test_reviews_pos+test_reviews_neg, sentiments]).T\n",
    "                    , columns=['reviews', 'sentiment'])\n",
    "data_test = data_test.sample(frac=1).reset_index(drop=True)\n",
    "data_test.shape"
   ]
  },
  {
   "cell_type": "code",
   "execution_count": 18,
   "id": "d8db133b",
   "metadata": {},
   "outputs": [
    {
     "data": {
      "text/html": [
       "<div>\n",
       "<style scoped>\n",
       "    .dataframe tbody tr th:only-of-type {\n",
       "        vertical-align: middle;\n",
       "    }\n",
       "\n",
       "    .dataframe tbody tr th {\n",
       "        vertical-align: top;\n",
       "    }\n",
       "\n",
       "    .dataframe thead th {\n",
       "        text-align: right;\n",
       "    }\n",
       "</style>\n",
       "<table border=\"1\" class=\"dataframe\">\n",
       "  <thead>\n",
       "    <tr style=\"text-align: right;\">\n",
       "      <th></th>\n",
       "      <th>reviews</th>\n",
       "      <th>sentiment</th>\n",
       "    </tr>\n",
       "  </thead>\n",
       "  <tbody>\n",
       "    <tr>\n",
       "      <th>0</th>\n",
       "      <td>American-made final entry in the \"Blood Island...</td>\n",
       "      <td>positive</td>\n",
       "    </tr>\n",
       "    <tr>\n",
       "      <th>1</th>\n",
       "      <td>Sorry this was a woeful excuse for a film.. a ...</td>\n",
       "      <td>negative</td>\n",
       "    </tr>\n",
       "    <tr>\n",
       "      <th>2</th>\n",
       "      <td>\"The Apartment Complex\" is a campy comedy full...</td>\n",
       "      <td>negative</td>\n",
       "    </tr>\n",
       "    <tr>\n",
       "      <th>3</th>\n",
       "      <td>I saw this movie at the Philadelphia Film Fest...</td>\n",
       "      <td>positive</td>\n",
       "    </tr>\n",
       "    <tr>\n",
       "      <th>4</th>\n",
       "      <td>This movie is one of the worst movies I have e...</td>\n",
       "      <td>negative</td>\n",
       "    </tr>\n",
       "  </tbody>\n",
       "</table>\n",
       "</div>"
      ],
      "text/plain": [
       "                                             reviews sentiment\n",
       "0  American-made final entry in the \"Blood Island...  positive\n",
       "1  Sorry this was a woeful excuse for a film.. a ...  negative\n",
       "2  \"The Apartment Complex\" is a campy comedy full...  negative\n",
       "3  I saw this movie at the Philadelphia Film Fest...  positive\n",
       "4  This movie is one of the worst movies I have e...  negative"
      ]
     },
     "execution_count": 18,
     "metadata": {},
     "output_type": "execute_result"
    }
   ],
   "source": [
    "data_test.head()"
   ]
  },
  {
   "cell_type": "code",
   "execution_count": 22,
   "id": "6f50cde0",
   "metadata": {},
   "outputs": [],
   "source": [
    "broom = re.compile('<.*?>') \n",
    "def clean_html(raw_text):\n",
    "    clean_text = re.sub(broom, '', raw_text)\n",
    "    return clean_text\n",
    "\n",
    "data['reviews'] = data['reviews'].apply(clean_html)\n",
    "data_test['reviews'] = data_test['reviews'].apply(clean_html)"
   ]
  },
  {
   "cell_type": "code",
   "execution_count": 37,
   "id": "cab5890e",
   "metadata": {},
   "outputs": [],
   "source": [
    "data.to_csv(r'data train preprep.csv')\n",
    "data_test.to_csv(r'data test preprep.csv')"
   ]
  },
  {
   "cell_type": "markdown",
   "id": "ad806ffa",
   "metadata": {},
   "source": [
    "### Processing the data"
   ]
  },
  {
   "cell_type": "code",
   "execution_count": 10,
   "id": "a0d2e05b",
   "metadata": {},
   "outputs": [],
   "source": [
    "# clean reviews from html tags\n",
    "\n",
    "broom = re.compile('<.*?>') \n",
    "def clean_html(raw_text):\n",
    "    clean_text = re.sub(broom, '', raw_text)\n",
    "    return clean_text\n",
    "\n",
    "# Stemming the words within each review\n",
    "thing = re.compile(r'(\\w)\\1*')\n",
    "match_sub = r'\\1'\n",
    "def stem(text):\n",
    "    text = thing.sub(match_sub, text)\n",
    "    doc = sp(text)\n",
    "    # ps=nltk.porter.PorterStemmer()\n",
    "    # text= ' '.join([ps.stem(word) for word in text.split()]) # don't like the result yielded by this one\n",
    "    text = ' '.join([token.lemma_ for token in doc if len(token.lemma_)>1])\n",
    "    return text\n",
    "\n",
    "##\n",
    "stop_words = stopwords.words('english')\n",
    "tokenizer = ToktokTokenizer()\n",
    "\n",
    "# removing the stopwords\n",
    "\n",
    "def remove_stopwords(text):\n",
    "    tokens = [token.strip() for token in tokenizer.tokenize(text)]\n",
    "    filtered_tokens = [token.lower() for token in tokens if token.lower() not in stop_words]\n",
    "    filtered_text = ' '.join(filtered_tokens)\n",
    "    # remove rubbish\n",
    "    broom = re.compile('[^A-Za-z ]')\n",
    "    filtered_text = ' '.join([x.strip() for x in tokenizer.tokenize(re.sub(broom, '', filtered_text))])\n",
    "    return filtered_text\n",
    "\n",
    "\n",
    "def process(data) :\n",
    "    data['reviews'] = data['reviews'].apply(clean_html)\n",
    "    data['reviews'] = data['reviews'].apply(stem)\n",
    "    data['reviews'] = data['reviews'].apply(remove_stopwords)\n",
    "    return data"
   ]
  },
  {
   "cell_type": "code",
   "execution_count": 11,
   "id": "b24db507",
   "metadata": {},
   "outputs": [],
   "source": [
    "data = process(data)\n",
    "data_test = process(data_test)"
   ]
  },
  {
   "cell_type": "code",
   "execution_count": 104,
   "id": "3050c853",
   "metadata": {},
   "outputs": [],
   "source": [
    "data.to_excel(r'data train.xlsx')\n",
    "data_test.to_excel(r'data test.xlsx')"
   ]
  },
  {
   "cell_type": "code",
   "execution_count": 9,
   "id": "b847a355",
   "metadata": {},
   "outputs": [],
   "source": [
    "data = pd.read_excel('data train.xlsx')\n",
    "data_test = pd.read_excel('data test.xlsx')"
   ]
  },
  {
   "cell_type": "markdown",
   "id": "86036b02",
   "metadata": {},
   "source": [
    "### Data treatment"
   ]
  },
  {
   "cell_type": "markdown",
   "id": "c9cbbcb3",
   "metadata": {},
   "source": [
    "#### Bag of words"
   ]
  },
  {
   "cell_type": "markdown",
   "id": "3edfcc57",
   "metadata": {},
   "source": [
    "The bag of words model is a way to represent text data so that it can be processed by Machine Learning models. During the processing of the data, and to ensure an optimal representation, certain techniques are usually applied :\n",
    "- Ignoring case\n",
    "- Ignoring punctuation\n",
    "- Ignoring frequent words that don’t contain much information, called stop words, like “a,” “of,” etc.\n",
    "- Fixing misspelled words\n",
    "- Reducing words to their stem (e.g. “play” from “playing”) using stemming algorithms"
   ]
  },
  {
   "cell_type": "code",
   "execution_count": 10,
   "id": "bcf95a46",
   "metadata": {},
   "outputs": [
    {
     "name": "stdout",
     "output_type": "stream",
     "text": [
      "Bag of words for cv_train: (25000, 28720)\n",
      "Bag of words for cv_test: (25000, 28720)\n"
     ]
    }
   ],
   "source": [
    "# count vectorizer for bag of words\n",
    "cv = CountVectorizer(min_df=0, max_df=1)\n",
    "\n",
    "# transformed train reviews\n",
    "cv_train_reviews = cv.fit_transform(data.reviews)\n",
    "\n",
    "# transformed test reviews\n",
    "cv_test_reviews = cv.transform(data_test.reviews)\n",
    "\n",
    "print('Bag of words for cv_train:', cv_train_reviews.shape) # these are sparse matrices\n",
    "print('Bag of words for cv_test:', cv_test_reviews.shape)\n",
    "#vocab=cv.get_feature_names()-toget feature names"
   ]
  },
  {
   "cell_type": "markdown",
   "id": "b0358ac8",
   "metadata": {},
   "source": [
    "#### Tf-idf = Term Frequency (TF) * Inverse Document Frequency (IDF)"
   ]
  },
  {
   "cell_type": "code",
   "execution_count": 11,
   "id": "351ad034",
   "metadata": {},
   "outputs": [
    {
     "name": "stdout",
     "output_type": "stream",
     "text": [
      "Tfidf_train : (25000, 28720)\n",
      "Tfidf_test : (25000, 28720)\n"
     ]
    }
   ],
   "source": [
    "# tfidf vectorizer\n",
    "vect = TfidfVectorizer(min_df=0, max_df=1)\n",
    "\n",
    "# transformed train reviews\n",
    "vect_train_reviews = vect.fit_transform(data.reviews)\n",
    "\n",
    "# transformed test reviews\n",
    "vect_test_reviews = vect.transform(data_test.reviews)\n",
    "\n",
    "# returns a list of words\n",
    "words = vect.get_feature_names_out()\n",
    "\n",
    "print('Tfidf_train :', vect_train_reviews.shape)\n",
    "print('Tfidf_test :', vect_test_reviews.shape)"
   ]
  },
  {
   "cell_type": "code",
   "execution_count": 73,
   "id": "dddabc96",
   "metadata": {},
   "outputs": [],
   "source": [
    "from sklearn.preprocessing import LabelBinarizer\n",
    "?LabelBinarizer"
   ]
  },
  {
   "cell_type": "markdown",
   "id": "433b7450",
   "metadata": {},
   "source": [
    "## Modelisation"
   ]
  },
  {
   "cell_type": "markdown",
   "id": "32100df3",
   "metadata": {},
   "source": [
    "### Clustering"
   ]
  },
  {
   "cell_type": "code",
   "execution_count": null,
   "id": "97414cb4",
   "metadata": {},
   "outputs": [],
   "source": [
    "from sklearn.cluster import KMeans"
   ]
  },
  {
   "cell_type": "code",
   "execution_count": 18,
   "id": "69f8592e",
   "metadata": {},
   "outputs": [
    {
     "data": {
      "text/plain": [
       "KMeans(n_clusters=10, tol=0.01)"
      ]
     },
     "execution_count": 18,
     "metadata": {},
     "output_type": "execute_result"
    }
   ],
   "source": [
    "# setup kmeans clustering\n",
    "kmeans = KMeans(n_clusters = 10, n_init = 10, tol = 0.01, max_iter = 300)\n",
    "kmeans.fit(vect_train_reviews)"
   ]
  },
  {
   "cell_type": "code",
   "execution_count": 32,
   "id": "4382c050",
   "metadata": {},
   "outputs": [],
   "source": [
    "sse = []\n",
    "for k in range(1, 50):\n",
    "    kmeans = KMeans(n_clusters = k, n_init = 3, tol = 0.001, max_iter = 300)\n",
    "    kmeans.fit(vect_train_reviews)\n",
    "    sse.append(kmeans.inertia_)"
   ]
  },
  {
   "cell_type": "code",
   "execution_count": 39,
   "id": "14cf11b8",
   "metadata": {},
   "outputs": [
    {
     "data": {
      "text/plain": [
       "Text(0, 0.5, 'SSE')"
      ]
     },
     "execution_count": 39,
     "metadata": {},
     "output_type": "execute_result"
    },
    {
     "data": {
      "image/png": "[encoded data removed]",
      "text/plain": [
       "<Figure size 1080x432 with 1 Axes>"
      ]
     },
     "metadata": {},
     "output_type": "display_data"
    }
   ],
   "source": [
    "plt.figure(figsize=(15, 6))\n",
    "\n",
    "plt.style.use(\"fivethirtyeight\")\n",
    "plt.plot(range(1, 50), sse)\n",
    "plt.xticks(range(1, 50))\n",
    "plt.xlabel(\"Number of Clusters\")\n",
    "plt.ylabel(\"SSE\")"
   ]
  },
  {
   "cell_type": "code",
   "execution_count": 16,
   "id": "4dce115d",
   "metadata": {},
   "outputs": [
    {
     "name": "stdout",
     "output_type": "stream",
     "text": [
      "0 : zyuranger, mindfe, slekly, faceful, slepwalking, carfuly, carfax, sleves, sleze, facene\n",
      "1 : perc, instrumentalist, cinders, mowbrays, gair, gails, gaily, gaimans, gainfuly, gaining\n",
      "2 : galey, tholomyes, musain, champmathieu, frederich, bamatabois, skiping, myriel, gainfuly, gainsborough\n",
      "3 : isings, zyuranger, gaionsbourg, gaijin, gailardian, gails, gaily, gaimans, gainfuly, gaining\n",
      "4 : widoes, dogbery, rylance, gadabout, gaionsbourg, gaijin, gailardian, gails, gaily, gaimans\n",
      "5 : crom, celticism, cruic, gailardian, gails, gaily, gaimans, gainfuly, gaining, gainsay\n",
      "6 : consequences, wizs, zyuranger, gaionsbourg, gaijin, gailardian, gails, gaily, gaimans, gainfuly\n",
      "7 : observationtwenty, minieapolis, ideas, zyuranger, gair, gails, gaily, gaimans, gainfuly, gaining\n",
      "8 : chechens, zyuranger, gair, gailardian, gails, gaily, gaimans, gainfuly, gaining, gainsay\n",
      "9 : unesential, zyuranger, gaionsbourg, gaijin, gailardian, gails, gaily, gaimans, gainfuly, gaining\n",
      "10 : alp, informaly, mopey, glomily, decorous, galbo, galaxina, gails, gaily, galerywel\n",
      "11 : windstorm, zyuranger, gaiday, gailardian, gails, gaily, gaimans, gainfuly, gaining, gainsay\n",
      "12 : mebore, boringand, galerywel, galens, gaijin, gailardian, gails, gaily, gaimans, gainfuly\n",
      "13 : burie, meningitis, zyuranger, gaionsbourg, gailardian, gails, gaily, gaimans, gainfuly, gaining\n",
      "14 : sagamore, hopes, zyuranger, gaionsbourg, gaijin, gailardian, gails, gaily, gaimans, gainfuly\n"
     ]
    }
   ],
   "source": [
    "#this loop transforms the numbers back into words\n",
    "common_words = kmeans.cluster_centers_.argsort()[:,-1:-11:-1]\n",
    "for num, centroid in enumerate(common_words):\n",
    "    print(str(num) + ' : ' + ', '.join(words[word] for word in centroid))"
   ]
  },
  {
   "cell_type": "markdown",
   "id": "b6808976",
   "metadata": {},
   "source": [
    "### Binary classification"
   ]
  },
  {
   "cell_type": "markdown",
   "id": "9ee071cb",
   "metadata": {},
   "source": [
    "We'll be fitting different models, and also see how tf-idf improves prediction compared with the output of the bag of words method"
   ]
  },
  {
   "cell_type": "code",
   "execution_count": 12,
   "id": "08cdc2be",
   "metadata": {},
   "outputs": [],
   "source": [
    "from sklearn.linear_model import LogisticRegression,SGDClassifier\n",
    "from sklearn.metrics import classification_report, confusion_matrix, accuracy_score\n",
    "from sklearn.preprocessing import LabelEncoder"
   ]
  },
  {
   "cell_type": "markdown",
   "id": "3874eea9",
   "metadata": {},
   "source": [
    "#### Logistic Regression"
   ]
  },
  {
   "cell_type": "code",
   "execution_count": 13,
   "id": "1fc24fcf",
   "metadata": {},
   "outputs": [
    {
     "name": "stdout",
     "output_type": "stream",
     "text": [
      "LogisticRegression(C=1, max_iter=500, random_state=0)\n",
      "LogisticRegression(C=1, max_iter=500, random_state=0)\n"
     ]
    }
   ],
   "source": [
    "# training the model\n",
    "reg = LogisticRegression(penalty='l2', max_iter=500, C=1, random_state=0)\n",
    "\n",
    "# fitting the model for bag of words features\n",
    "reg_bow = reg.fit(cv_train_reviews, data.sentiment)\n",
    "print(reg_bow)\n",
    "\n",
    "# fitting the model for tfidf features\n",
    "reg_tfidf = reg.fit(vect_train_reviews, data.sentiment)\n",
    "print(reg_tfidf)"
   ]
  },
  {
   "cell_type": "code",
   "execution_count": 14,
   "id": "1dba5b6f",
   "metadata": {},
   "outputs": [
    {
     "name": "stdout",
     "output_type": "stream",
     "text": [
      "['positive' 'positive' 'positive' ... 'positive' 'positive' 'negative']\n",
      "['positive' 'positive' 'positive' ... 'positive' 'positive' 'negative']\n"
     ]
    }
   ],
   "source": [
    "# predict sentiments for each review\n",
    "reg_tfidf_predict = reg.predict(vect_train_reviews)\n",
    "reg_bow_predict = reg.predict(cv_train_reviews)\n",
    "print(reg_tfidf_predict)\n",
    "print(reg_bow_predict)"
   ]
  },
  {
   "cell_type": "code",
   "execution_count": 15,
   "id": "e2bc2b07",
   "metadata": {},
   "outputs": [
    {
     "name": "stdout",
     "output_type": "stream",
     "text": [
      "reg_bow_score : 0.7548\n",
      "reg_tfidf_score : 0.7548\n"
     ]
    }
   ],
   "source": [
    "# accuracy score for bag of words features\n",
    "reg_bow_score = accuracy_score(data.sentiment, reg_bow_predict)\n",
    "print(\"reg_bow_score :\", reg_bow_score)\n",
    "\n",
    "# accuracy score for tfidf features\n",
    "reg_tfidf_score = accuracy_score(data.sentiment, reg_tfidf_predict)\n",
    "print(\"reg_tfidf_score :\", reg_tfidf_score)"
   ]
  },
  {
   "cell_type": "code",
   "execution_count": 16,
   "id": "31df48b0",
   "metadata": {},
   "outputs": [
    {
     "name": "stdout",
     "output_type": "stream",
     "text": [
      "[[ 6370  6130]\n",
      " [    0 12500]]\n",
      "[[ 6370  6130]\n",
      " [    0 12500]]\n"
     ]
    }
   ],
   "source": [
    "cm_bow_train = confusion_matrix(data.sentiment, reg_bow_predict)\n",
    "cm_tfidf_train = confusion_matrix(data.sentiment, reg_tfidf_predict)\n",
    "print(cm_bow_train)\n",
    "print(cm_tfidf_train)"
   ]
  },
  {
   "cell_type": "code",
   "execution_count": 17,
   "id": "31f66073",
   "metadata": {},
   "outputs": [
    {
     "name": "stdout",
     "output_type": "stream",
     "text": [
      "reg_bow_score_test : 0.50728\n",
      "reg_tfidf_score_test : 0.50724\n"
     ]
    }
   ],
   "source": [
    "reg_tfidf_predict_test = reg.predict(vect_test_reviews)\n",
    "reg_bow_predict_test = reg.predict(cv_test_reviews)\n",
    "\n",
    "# accuracy score for bag of words features on test set\n",
    "reg_bow_score_test = accuracy_score(data_test.sentiment, reg_bow_predict_test)\n",
    "print(\"reg_bow_score_test :\", reg_bow_score_test)\n",
    "\n",
    "# accuracy score for tfidf features on test set\n",
    "reg_tfidf_score_test = accuracy_score(data_test.sentiment, reg_tfidf_predict_test)\n",
    "print(\"reg_tfidf_score_test :\", reg_tfidf_score_test)"
   ]
  },
  {
   "cell_type": "code",
   "execution_count": 18,
   "id": "127e1f4b",
   "metadata": {},
   "outputs": [
    {
     "name": "stdout",
     "output_type": "stream",
     "text": [
      "[[ 2618  9882]\n",
      " [ 2436 10064]]\n",
      "[[ 2615  9885]\n",
      " [ 2434 10066]]\n"
     ]
    }
   ],
   "source": [
    "cm_bow_test = confusion_matrix(data_test.sentiment, reg_bow_predict_test)\n",
    "cm_tfidf_test = confusion_matrix(data_test.sentiment, reg_tfidf_predict_test)\n",
    "print(cm_bow_test)\n",
    "print(cm_tfidf_test)"
   ]
  },
  {
   "cell_type": "markdown",
   "id": "30405a80",
   "metadata": {},
   "source": [
    "#### SVM"
   ]
  },
  {
   "cell_type": "code",
   "execution_count": 19,
   "id": "750edd54",
   "metadata": {},
   "outputs": [
    {
     "name": "stdout",
     "output_type": "stream",
     "text": [
      "SGDClassifier(max_iter=500, random_state=0)\n",
      "SGDClassifier(max_iter=500, random_state=0)\n"
     ]
    }
   ],
   "source": [
    "# training the linear svm\n",
    "svm = SGDClassifier(loss='hinge', max_iter=500, random_state=0)\n",
    "\n",
    "# fitting the svm for bag of words features\n",
    "svm_bow = svm.fit(cv_train_reviews, data.sentiment)\n",
    "print(svm_bow)\n",
    "\n",
    "# fitting the svm for tfidf features\n",
    "svm_tfidf = svm.fit(vect_train_reviews, data.sentiment)\n",
    "print(svm_tfidf)"
   ]
  },
  {
   "cell_type": "code",
   "execution_count": 20,
   "id": "c91dd9af",
   "metadata": {},
   "outputs": [
    {
     "name": "stdout",
     "output_type": "stream",
     "text": [
      "['negative' 'positive' 'positive' ... 'negative' 'negative' 'negative']\n",
      "['negative' 'positive' 'positive' ... 'negative' 'negative' 'negative']\n"
     ]
    }
   ],
   "source": [
    "# predict sentiments for each review\n",
    "svm_bow_predict = svm.predict(vect_train_reviews)\n",
    "svm_tfidf_predict = svm.predict(cv_train_reviews)\n",
    "print(svm_bow_predict)\n",
    "print(svm_tfidf_predict)"
   ]
  },
  {
   "cell_type": "code",
   "execution_count": 21,
   "id": "ede8ab13",
   "metadata": {},
   "outputs": [
    {
     "name": "stdout",
     "output_type": "stream",
     "text": [
      "svm_bow_score : 0.74984\n",
      "svm_tfidf_score : 0.74984\n"
     ]
    }
   ],
   "source": [
    "# accuracy score for bag of words features\n",
    "svm_bow_score = accuracy_score(data.sentiment, svm_bow_predict)\n",
    "print(\"svm_bow_score :\", svm_bow_score)\n",
    "\n",
    "# accuracy score for tfidf features\n",
    "svm_tfidf_score = accuracy_score(data.sentiment, svm_tfidf_predict)\n",
    "print(\"svm_tfidf_score :\", svm_tfidf_score)"
   ]
  },
  {
   "cell_type": "code",
   "execution_count": 22,
   "id": "388c41e3",
   "metadata": {},
   "outputs": [
    {
     "name": "stdout",
     "output_type": "stream",
     "text": [
      "svm_bow_score_test : 0.5214\n",
      "svm_tfidf_score_test : 0.5216\n"
     ]
    }
   ],
   "source": [
    "svm_tfidf_predict_test = svm.predict(vect_test_reviews)\n",
    "svm_bow_predict_test = svm.predict(cv_test_reviews)\n",
    "\n",
    "# accuracy score for bag of words features on test set\n",
    "svm_bow_score_test = accuracy_score(data_test.sentiment, svm_bow_predict_test)\n",
    "print(\"svm_bow_score_test :\", svm_bow_score_test)\n",
    "\n",
    "# accuracy score for tfidf features on test set\n",
    "svm_tfidf_score_test = accuracy_score(data_test.sentiment, svm_tfidf_predict_test)\n",
    "print(\"svm_tfidf_score_test :\", svm_tfidf_score_test)"
   ]
  },
  {
   "cell_type": "markdown",
   "id": "c29089e4",
   "metadata": {},
   "source": [
    "### LSTM"
   ]
  },
  {
   "cell_type": "markdown",
   "id": "879b9dd7",
   "metadata": {},
   "source": [
    "As we can see with the previously used methods, the results aren't quite satisfactory. In fact, the accuracy of the models on the test set are barely better that random guessing. The issue might be in the preprocessing step which we'll go back into, but for now, let's see if using neural networks manage to improve the accuracy."
   ]
  },
  {
   "cell_type": "code",
   "execution_count": 144,
   "id": "be5456c8",
   "metadata": {},
   "outputs": [],
   "source": [
    "from tensorflow.keras.preprocessing.text import Tokenizer\n",
    "from tensorflow.keras.preprocessing.sequence import pad_sequences\n",
    "\n",
    "from tensorflow.keras.models import Sequential\n",
    "from tensorflow.keras.layers import LSTM, Dense, Dropout, SpatialDropout1D\n",
    "from tensorflow.keras.layers import Embedding, Flatten"
   ]
  },
  {
   "cell_type": "code",
   "execution_count": 185,
   "id": "953dee04",
   "metadata": {},
   "outputs": [],
   "source": [
    "data = pd.read_excel('data train.xlsx')\n",
    "data_test = pd.read_excel('data test.xlsx')"
   ]
  },
  {
   "cell_type": "code",
   "execution_count": 116,
   "id": "2f3079ba",
   "metadata": {},
   "outputs": [],
   "source": [
    "data = pd.read_csv('data train preprep.csv', index_col=0)\n",
    "data_test = pd.read_csv('data test preprep.csv', index_col=0)\n",
    "def lll(x):\n",
    "    if x=='negative' : \n",
    "        return 0\n",
    "    return 1"
   ]
  },
  {
   "cell_type": "code",
   "execution_count": 186,
   "id": "4f395916",
   "metadata": {},
   "outputs": [],
   "source": [
    "def preproc(data) :    \n",
    "    # tokenizing\n",
    "    reviews = data.reviews.values\n",
    "    tokenizer = Tokenizer()\n",
    "    tokenizer.fit_on_texts(reviews)\n",
    "    encoded_reviews = tokenizer.texts_to_sequences(reviews)\n",
    "\n",
    "    # padding\n",
    "    padded_reviews = pad_sequences(encoded_reviews)\n",
    "    return padded_reviews\n",
    "\n",
    "padded_reviews = preproc(data) # shape : (25000, 1414)\n",
    "padded_reviews_test = preproc(data_test)"
   ]
  },
  {
   "cell_type": "code",
   "execution_count": null,
   "id": "62d6b30d",
   "metadata": {},
   "outputs": [],
   "source": [
    "padded_reviews.reshape(25000, 1414, 1)"
   ]
  },
  {
   "cell_type": "code",
   "execution_count": 190,
   "id": "f409c188",
   "metadata": {},
   "outputs": [],
   "source": [
    "number_of_distinct_words = 1414\n",
    "vocab_size = 65065\n",
    "\n",
    "# fitting the LSTM\n",
    "\n",
    "model = Sequential()\n",
    "model.add(Embedding(vocab_size , output_dim = 32, input_length = number_of_distinct_words))\n",
    "#model.add(SpatialDropout1D(0.25))\n",
    "model.add(LSTM(5, dropout=0.5, recurrent_dropout=0.5, batch_input_shape=(25000, 1414, 1), return_sequences=True))\n",
    "#model.add(Dropout(0.2))\n",
    "model.add(Dense(1, activation='sigmoid'))\n",
    "model.compile(loss='binary_crossentropy',optimizer='adam', metrics=['accuracy'])"
   ]
  },
  {
   "cell_type": "code",
   "execution_count": null,
   "id": "e33a469d",
   "metadata": {},
   "outputs": [],
   "source": [
    "mod = model.fit(padded_reviews.reshape(25000, 1414, 1), np.array(data.sentiment.map(lll)), \n",
    "                validation_data=(padded_reviews_test, np.array(data_test.sentiment.map(lll))), \n",
    "                epochs=5)"
   ]
  }
 ],
 "metadata": {
  "kernelspec": {
   "display_name": "Python 3 (ipykernel)",
   "language": "python",
   "name": "python3"
  },
  "language_info": {
   "codemirror_mode": {
    "name": "ipython",
    "version": 3
   },
   "file_extension": ".py",
   "mimetype": "text/x-python",
   "name": "python",
   "nbconvert_exporter": "python",
   "pygments_lexer": "ipython3",
   "version": "3.9.7"
  }
 },
 "nbformat": 4,
 "nbformat_minor": 5
}
